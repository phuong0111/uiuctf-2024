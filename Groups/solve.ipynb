{
 "cells": [
  {
   "cell_type": "markdown",
   "id": "e9a0d548",
   "metadata": {},
   "source": [
    "Bài này khá là khó, nó là bài toán dlp\n",
    "Hiểu cơ bản thì cho trường p nguyên tố, a, a_k bất kì, tìm k sao cho a^k = a_k mod p\n",
    "Ý tưởng là xay dựng số p nguyên tố sao cho p-1 là smooth-number (https://en.wikipedia.org/wiki/Smooth_number)\n",
    "Khi đó thì tìm k sẽ khá là dễ."
   ]
  },
  {
   "cell_type": "code",
   "execution_count": 2,
   "id": "7aba09b5-87f5-430b-8526-01ba9f840afc",
   "metadata": {
    "vscode": {
     "languageId": "python"
    }
   },
   "outputs": [],
   "source": [
    "from binascii import hexlify\n",
    "from gmpy2 import *\n",
    "import math\n",
    "import os\n",
    "import sys\n",
    "\n",
    "SEED  = mpz(hexlify(os.urandom(32)).decode(), 16)\n",
    "STATE = random_state(SEED)"
   ]
  },
  {
   "cell_type": "code",
   "execution_count": 3,
   "id": "44ae99cf-b4a4-48ce-bc4e-e0a2fa5077b4",
   "metadata": {
    "vscode": {
     "languageId": "python"
    }
   },
   "outputs": [],
   "source": [
    "def get_prime(state, bits):\n",
    "    return next_prime(mpz_urandomb(state, bits) | (1 << (bits - 1)))\n",
    "\n",
    "def get_smooth_prime(state, bits, smoothness=16):\n",
    "    p = mpz(2)\n",
    "    p_factors = [p]\n",
    "    while p.bit_length() < bits - 2 * smoothness:\n",
    "        factor = get_prime(state, smoothness)\n",
    "        p_factors.append(factor)\n",
    "        p *= factor\n",
    "\n",
    "    bitcnt = (bits - p.bit_length()) // 2\n",
    "\n",
    "    while True:\n",
    "        prime1 = get_prime(state, bitcnt)\n",
    "        prime2 = get_prime(state, bitcnt)\n",
    "        tmpp = p * prime1 * prime2\n",
    "        if tmpp.bit_length() < bits:\n",
    "            bitcnt += 1\n",
    "            continue\n",
    "        if tmpp.bit_length() > bits:\n",
    "            bitcnt -= 1\n",
    "            continue\n",
    "        if is_prime(tmpp + 1):\n",
    "            p_factors.append(prime1)\n",
    "            p_factors.append(prime2)\n",
    "            p = tmpp + 1\n",
    "            break\n",
    "\n",
    "    p_factors.sort()\n",
    "\n",
    "    return (p, p_factors)"
   ]
  },
  {
   "cell_type": "code",
   "execution_count": 4,
   "id": "62174355-1634-4bba-9060-7770bd036b38",
   "metadata": {
    "vscode": {
     "languageId": "python"
    }
   },
   "outputs": [],
   "source": [
    "p, p_factors = get_smooth_prime(STATE, 512, 16)"
   ]
  },
  {
   "cell_type": "code",
   "execution_count": 5,
   "id": "8693d627-87b3-4e77-b491-08535efb2208",
   "metadata": {
    "vscode": {
     "languageId": "python"
    }
   },
   "outputs": [
    {
     "name": "stdout",
     "output_type": "stream",
     "text": [
      "7842743517437742565859933138538758304090770361208730562037291138383912888608129682508362079253446953974217750909124307422779844131208639623364819115569763 [mpz(2), mpz(15287), mpz(16249), mpz(33037), mpz(35221), mpz(37057), mpz(37747), mpz(38371), mpz(39569), mpz(40693), mpz(40813), mpz(40867), mpz(42839), mpz(42899), mpz(45869), mpz(49157), mpz(49169), mpz(49279), mpz(49663), mpz(49891), mpz(50021), mpz(50821), mpz(51283), mpz(54277), mpz(54361), mpz(54547), mpz(55147), mpz(58057), mpz(58661), mpz(59921), mpz(62383), mpz(62969), mpz(63409), mpz(64327)]\n"
     ]
    }
   ],
   "source": [
    "print(p, p_factors)"
   ]
  },
  {
   "cell_type": "code",
   "execution_count": 6,
   "id": "9353d339-436e-43db-b503-d5b891bd126e",
   "metadata": {
    "vscode": {
     "languageId": "python"
    }
   },
   "outputs": [
    {
     "name": "stdout",
     "output_type": "stream",
     "text": [
      "3159468841746089123951761704514053510336000591853661830383714805417363332906620699135131640402677620834938998028525698666094801054452820610034930399264268\n"
     ]
    }
   ],
   "source": [
    "from random import randint\n",
    "\n",
    "a = randint(1, p-1)\n",
    "k = randint(2, p-1)\n",
    "a_k = pow(a, k, p)\n",
    "\n",
    "_k = discrete_log(Mod(a_k, p), Mod(a, p), p-1)\n",
    "\n",
    "print(_k)\n",
    "assert pow(a, _k, p) == a_k"
   ]
  }
 ],
 "metadata": {
  "kernelspec": {
   "display_name": "SageMath 10.3",
   "language": "sage",
   "name": "SageMath-10.3"
  },
  "language_info": {
   "codemirror_mode": {
    "name": "ipython",
    "version": 3
   },
   "file_extension": ".py",
   "mimetype": "text/x-python",
   "name": "sage",
   "nbconvert_exporter": "python",
   "pygments_lexer": "ipython3",
   "version": "3.11.8"
  }
 },
 "nbformat": 4,
 "nbformat_minor": 5
}
